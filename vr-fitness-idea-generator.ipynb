{
 "cells": [
  {
   "attachments": {},
   "cell_type": "markdown",
   "metadata": {},
   "source": [
    "# VR fitness idea generator\n",
    "\n",
    "Create ideas for fitness and virtual reality games.\n",
    "\n",
    "## Settings\n",
    "\n",
    "| Setting | Value |\n",
    "| --- | --- |\n",
    "| Model | gpt-35-turbo-instruct |\n",
    "| Max tokens | 350 |\n",
    "| Temperature | 0.6 | \n",
    "| Top p | 1 | \n",
    "| Frequency penalty | 1.0 |\n",
    "| Presence penalty | 1.0 |\n",
    "\n",
    "## Prompt\n",
    "\n",
    "```text\n",
    "Brainstorm some ideas combining VR and fitness:\n",
    "```"
   ]
  },
  {
   "attachments": {},
   "cell_type": "markdown",
   "metadata": {},
   "source": [
    "## Install Azure OpenAI Service .NET SDK\n",
    "\n",
    "[Azure.AI.OpenAI NuGet package](https://www.nuget.org/packages/Azure.AI.OpenAI/)"
   ]
  },
  {
   "cell_type": "code",
   "execution_count": 1,
   "metadata": {
    "dotnet_interactive": {
     "language": "csharp"
    },
    "polyglot_notebook": {
     "kernelName": "csharp"
    }
   },
   "outputs": [
    {
     "data": {
      "text/html": [
       "<div><div></div><div></div><div><strong>Installed Packages</strong><ul><li><span>Azure.AI.OpenAI, 1.0.0-beta.15</span></li></ul></div></div>"
      ]
     },
     "metadata": {},
     "output_type": "display_data"
    }
   ],
   "source": [
    "#r \"nuget: Azure.AI.OpenAI, 1.0.0-beta.15\""
   ]
  },
  {
   "cell_type": "code",
   "execution_count": 2,
   "metadata": {
    "dotnet_interactive": {
     "language": "csharp"
    },
    "polyglot_notebook": {
     "kernelName": "csharp"
    }
   },
   "outputs": [],
   "source": [
    "using System;\n",
    "using Azure.AI.OpenAI;"
   ]
  },
  {
   "attachments": {},
   "cell_type": "markdown",
   "metadata": {},
   "source": [
    "## Configure Azure OpenAI client"
   ]
  },
  {
   "cell_type": "code",
   "execution_count": 3,
   "metadata": {
    "dotnet_interactive": {
     "language": "csharp"
    },
    "polyglot_notebook": {
     "kernelName": "csharp"
    }
   },
   "outputs": [],
   "source": [
    "var AOAI_ENDPOINT = Environment.GetEnvironmentVariable(\"AOAI_ENDPOINT\");\n",
    "var AOAI_KEY = Environment.GetEnvironmentVariable(\"AOAI_KEY\");\n",
    "var AOAI_DEPLOYMENTID = Environment.GetEnvironmentVariable(\"AOAI_DEPLOYMENTID\");"
   ]
  },
  {
   "cell_type": "code",
   "execution_count": null,
   "metadata": {
    "dotnet_interactive": {
     "language": "csharp"
    },
    "polyglot_notebook": {
     "kernelName": "csharp"
    }
   },
   "outputs": [],
   "source": [
    "var endpoint = new Uri(AOAI_ENDPOINT);\n",
    "var credentials = new Azure.AzureKeyCredential(AOAI_KEY);\n",
    "var openAIClient = new OpenAIClient(endpoint, credentials);"
   ]
  },
  {
   "attachments": {},
   "cell_type": "markdown",
   "metadata": {},
   "source": [
    "## Define prompt"
   ]
  },
  {
   "cell_type": "code",
   "execution_count": 6,
   "metadata": {
    "dotnet_interactive": {
     "language": "csharp"
    },
    "polyglot_notebook": {
     "kernelName": "csharp"
    }
   },
   "outputs": [],
   "source": [
    "var prompt = \n",
    "    \"\"\"\n",
    "    Brainstorm some ideas combining VR and fitness:\n",
    "    \"\"\";"
   ]
  },
  {
   "attachments": {},
   "cell_type": "markdown",
   "metadata": {},
   "source": [
    "## Configure completion options"
   ]
  },
  {
   "cell_type": "code",
   "execution_count": 7,
   "metadata": {
    "dotnet_interactive": {
     "language": "csharp"
    },
    "polyglot_notebook": {
     "kernelName": "csharp"
    }
   },
   "outputs": [],
   "source": [
    "var completionOptions = new CompletionsOptions\n",
    "{\n",
    "    DeploymentName=AOAI_DEPLOYMENTID,\n",
    "    Prompts={prompt},\n",
    "    MaxTokens=350,\n",
    "    Temperature=0.6f,\n",
    "    FrequencyPenalty=1.0f,\n",
    "    PresencePenalty=1.0f,\n",
    "    NucleusSamplingFactor=1 // Top P\n",
    "};"
   ]
  },
  {
   "attachments": {},
   "cell_type": "markdown",
   "metadata": {},
   "source": [
    "## Generate completions"
   ]
  },
  {
   "cell_type": "code",
   "execution_count": 8,
   "metadata": {
    "dotnet_interactive": {
     "language": "csharp"
    },
    "polyglot_notebook": {
     "kernelName": "csharp"
    }
   },
   "outputs": [],
   "source": [
    "Completions response = await openAIClient.GetCompletionsAsync(completionOptions);"
   ]
  },
  {
   "cell_type": "code",
   "execution_count": 9,
   "metadata": {
    "dotnet_interactive": {
     "language": "csharp"
    },
    "polyglot_notebook": {
     "kernelName": "csharp"
    }
   },
   "outputs": [
    {
     "data": {
      "text/plain": [
       " \n",
       "\n",
       "1. A virtual reality gym: Users can enter a virtual gym with different workout stations and equipment, allowing them to experience a full-body workout in an immersive environment.\n",
       "\n",
       "2. Fitness challenges and competitions: VR fitness games that allow users to compete against each other in various challenges such as obstacle courses, races, or weightlifting competitions.\n",
       "\n",
       "3. Guided workouts with virtual trainers: Instead of following along with a video or instruction manual, users can have a virtual trainer guide them through their workouts in real-time using VR technology.\n",
       "\n",
       "4. Virtual outdoor adventures: Experience hiking, rock climbing, or kayaking in stunning virtual environments while getting a full-body workout at the same time.\n",
       "\n",
       "5. Mindful movement meditation: Combining VR visuals with guided meditations and gentle movements for a calming and rejuvenating fitness experience.\n",
       "\n",
       "6. Dance parties/workouts: Put on your VR headset and join others from around the world for high-energy dance parties where you can burn calories while having fun!\n",
       "\n",
       "7. Interactive yoga classes: Attend live or pre-recorded yoga classes led by experienced instructors who use VR to create beautiful natural settings for practicing yoga poses.\n",
       "\n",
       "8. Customizable workouts based on personal goals/fitness level: Using biometric data collected by wearable devices, VR programs could generate personalized workouts tailored to individual needs and goals.\n",
       "\n",
       "9. Multiplayer sports games/exercises : Play basketball, tennis, soccer or any other sport virtually against friends or strangers worldwide without leaving your living room!\n",
       "\n",
       "10 . Physical therapy rehabilitation exercises : Patients recovering from injuries could use VR technology to perform rehab exercises in simulated environments designed specifically for their needs.\n"
      ]
     },
     "metadata": {},
     "output_type": "display_data"
    }
   ],
   "source": [
    "response.Choices.First().Text"
   ]
  }
 ],
 "metadata": {
  "kernelspec": {
   "display_name": ".NET (C#)",
   "language": "C#",
   "name": ".net-csharp"
  },
  "language_info": {
   "name": "polyglot-notebook"
  },
  "polyglot_notebook": {
   "kernelInfo": {
    "defaultKernelName": "csharp",
    "items": [
     {
      "aliases": [],
      "languageName": "csharp",
      "name": "csharp"
     }
    ]
   }
  }
 },
 "nbformat": 4,
 "nbformat_minor": 2
}
